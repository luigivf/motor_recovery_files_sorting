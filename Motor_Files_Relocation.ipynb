{
 "cells": [
  {
   "cell_type": "markdown",
   "id": "6e4ee85d-a442-481e-8ec4-0952d5c3d0ab",
   "metadata": {},
   "source": [
    "# Motor files relocation"
   ]
  },
  {
   "cell_type": "markdown",
   "id": "74166428-085e-40a5-b838-169855c4248e",
   "metadata": {},
   "source": [
    "The ideia is to relocate all the motors recovery files based on their's creation date. This creation date will be get from Traceability system database based on the day their passed on Reflash station."
   ]
  },
  {
   "cell_type": "code",
   "execution_count": 1,
   "id": "acf639a6-4251-4bea-8450-eb754fc797df",
   "metadata": {},
   "outputs": [],
   "source": [
    "import pandas as pd\n",
    "import os\n",
    "from IPython.display import display as print_dataframe"
   ]
  },
  {
   "cell_type": "markdown",
   "id": "72d0b8b9-bf43-4405-93e2-b47e9a39efc9",
   "metadata": {},
   "source": [
    "## Loading the file lists"
   ]
  },
  {
   "cell_type": "code",
   "execution_count": 2,
   "id": "51724c0e-1a0e-433c-a0e2-b38d35128a8b",
   "metadata": {},
   "outputs": [],
   "source": [
    "files_list_folder = 'C:\\\\Users\\\\BZLJ0R\\\\OneDrive - NEXTEER AUTOMOTIVE\\\\Documents\\\\motor_recovery\\\\files_lists'"
   ]
  },
  {
   "cell_type": "code",
   "execution_count": 3,
   "id": "8e0ab563-6302-44ef-b0fe-d0074a3d16fd",
   "metadata": {},
   "outputs": [
    {
     "name": "stdout",
     "output_type": "stream",
     "text": [
      "antigos.txt\n",
      "REFLASH_1.txt\n",
      "REFLASH_2.t.txt\n",
      "REFLASH_2REFLASH_2.txt\n",
      "REFLASH_3.txt\n",
      "REFLASH_4.txt\n",
      "REFLASH_6.txt\n"
     ]
    }
   ],
   "source": [
    "df = pd.DataFrame()\n",
    "\n",
    "for file_list in os.listdir(files_list_folder):\n",
    "    print(file_list)\n",
    "    \n",
    "    df_temp = pd.read_csv(os.path.join(files_list_folder, file_list)\n",
    "                         ,sep = \";\"\n",
    "                         ,header=None\n",
    "                         ,names=['file']\n",
    "                         ,engine=\"python\")\n",
    "    \n",
    "    #df_temp.rename(columns = {'0': 'file'}, inplace = True)\n",
    "    df_temp['list_name'] = file_list.replace('.txt','')\n",
    "    \n",
    "    if df.empty:\n",
    "        df = df_temp\n",
    "    else:\n",
    "        df = pd.concat([df,df_temp])"
   ]
  },
  {
   "cell_type": "code",
   "execution_count": 5,
   "id": "09efb98c-5322-4eb9-b28a-cf6ec9c134c5",
   "metadata": {},
   "outputs": [
    {
     "data": {
      "text/plain": [
       "(1583189, 2)"
      ]
     },
     "execution_count": 5,
     "metadata": {},
     "output_type": "execute_result"
    }
   ],
   "source": [
    "df.shape"
   ]
  },
  {
   "cell_type": "code",
   "execution_count": 6,
   "id": "145eda35-b056-4faf-b841-ca247181958b",
   "metadata": {},
   "outputs": [
    {
     "data": {
      "text/html": [
       "<div>\n",
       "<style scoped>\n",
       "    .dataframe tbody tr th:only-of-type {\n",
       "        vertical-align: middle;\n",
       "    }\n",
       "\n",
       "    .dataframe tbody tr th {\n",
       "        vertical-align: top;\n",
       "    }\n",
       "\n",
       "    .dataframe thead th {\n",
       "        text-align: right;\n",
       "    }\n",
       "</style>\n",
       "<table border=\"1\" class=\"dataframe\">\n",
       "  <thead>\n",
       "    <tr style=\"text-align: right;\">\n",
       "      <th></th>\n",
       "      <th>file</th>\n",
       "      <th>list_name</th>\n",
       "    </tr>\n",
       "  </thead>\n",
       "  <tbody>\n",
       "    <tr>\n",
       "      <th>0</th>\n",
       "      <td>Inhale SD000133X01 Q007406486 11-Aug-20 6_18_...</td>\n",
       "      <td>antigos</td>\n",
       "    </tr>\n",
       "    <tr>\n",
       "      <th>1</th>\n",
       "      <td>Inhale SD000133X01 Q008305121 27-Sep-20 16_59...</td>\n",
       "      <td>antigos</td>\n",
       "    </tr>\n",
       "  </tbody>\n",
       "</table>\n",
       "</div>"
      ],
      "text/plain": [
       "                                                file list_name\n",
       "0   Inhale SD000133X01 Q007406486 11-Aug-20 6_18_...   antigos\n",
       "1   Inhale SD000133X01 Q008305121 27-Sep-20 16_59...   antigos"
      ]
     },
     "execution_count": 6,
     "metadata": {},
     "output_type": "execute_result"
    }
   ],
   "source": [
    "df.head(2)"
   ]
  },
  {
   "cell_type": "markdown",
   "id": "870cc5e6-16a1-4b0c-b697-8fd383e0373d",
   "metadata": {},
   "source": [
    "## Extracting Motor Serial Number information from file name"
   ]
  },
  {
   "cell_type": "code",
   "execution_count": 7,
   "id": "ae414b13-d985-4fda-8d24-9f6ca6b4fc34",
   "metadata": {},
   "outputs": [],
   "source": [
    "# filtering motor files. Are the ones with \" Inhale\" on their names.\n",
    "\n",
    "df['inhale_string_start_position'] = df['file'].str.find(' Inhale')\n",
    "\n",
    "records_with_Inhale_string_in_file_name = df['inhale_string_start_position'] > -1\n",
    "\n",
    "df = df[records_with_Inhale_string_in_file_name]"
   ]
  },
  {
   "cell_type": "code",
   "execution_count": 8,
   "id": "fbdb21d1-d7f9-49f9-a89d-14d066df6e70",
   "metadata": {},
   "outputs": [],
   "source": [
    "# extracting the position of .xml string to after that split file name on desired fields\n",
    "\n",
    "df['xml_string_start_position'] = df['file'].str.find('.xml')"
   ]
  },
  {
   "cell_type": "code",
   "execution_count": 10,
   "id": "f7d6130d-9457-4636-85b4-6597a963fe14",
   "metadata": {},
   "outputs": [
    {
     "data": {
      "text/html": [
       "<div>\n",
       "<style scoped>\n",
       "    .dataframe tbody tr th:only-of-type {\n",
       "        vertical-align: middle;\n",
       "    }\n",
       "\n",
       "    .dataframe tbody tr th {\n",
       "        vertical-align: top;\n",
       "    }\n",
       "\n",
       "    .dataframe thead th {\n",
       "        text-align: right;\n",
       "    }\n",
       "</style>\n",
       "<table border=\"1\" class=\"dataframe\">\n",
       "  <thead>\n",
       "    <tr style=\"text-align: right;\">\n",
       "      <th></th>\n",
       "      <th>file</th>\n",
       "      <th>list_name</th>\n",
       "      <th>inhale_string_start_position</th>\n",
       "      <th>xml_string_start_position</th>\n",
       "    </tr>\n",
       "  </thead>\n",
       "  <tbody>\n",
       "    <tr>\n",
       "      <th>0</th>\n",
       "      <td>Inhale SD000133X01 Q007406486 11-Aug-20 6_18_...</td>\n",
       "      <td>antigos</td>\n",
       "      <td>0</td>\n",
       "      <td>48</td>\n",
       "    </tr>\n",
       "    <tr>\n",
       "      <th>1</th>\n",
       "      <td>Inhale SD000133X01 Q008305121 27-Sep-20 16_59...</td>\n",
       "      <td>antigos</td>\n",
       "      <td>0</td>\n",
       "      <td>49</td>\n",
       "    </tr>\n",
       "  </tbody>\n",
       "</table>\n",
       "</div>"
      ],
      "text/plain": [
       "                                                file list_name  \\\n",
       "0   Inhale SD000133X01 Q007406486 11-Aug-20 6_18_...   antigos   \n",
       "1   Inhale SD000133X01 Q008305121 27-Sep-20 16_59...   antigos   \n",
       "\n",
       "   inhale_string_start_position  xml_string_start_position  \n",
       "0                             0                         48  \n",
       "1                             0                         49  "
      ]
     },
     "execution_count": 10,
     "metadata": {},
     "output_type": "execute_result"
    }
   ],
   "source": [
    "df.head(2)"
   ]
  },
  {
   "cell_type": "code",
   "execution_count": 11,
   "id": "2365dd6e-afe9-46c2-9f23-539d3e5c3e15",
   "metadata": {},
   "outputs": [],
   "source": [
    "def slice_str(string, start, stop):\n",
    "    return string[start:stop].strip()\n",
    "\n",
    "df['file_name_substring'] = df.apply(\n",
    "                           lambda x:  slice_str(\n",
    "                                                str(x[0])\n",
    "                                               ,x['inhale_string_start_position']\n",
    "                                               ,x['xml_string_start_position']\n",
    "                                               )\n",
    "                                      ,axis = 1\n",
    "                          )"
   ]
  },
  {
   "cell_type": "code",
   "execution_count": 12,
   "id": "d5cc94d4-5fc2-4f96-a8cf-4b54327deede",
   "metadata": {},
   "outputs": [],
   "source": [
    "def remove_am_pm_mark(string):\n",
    "    return string.replace(' AM','').replace(' PM','')\n",
    "\n",
    "df['file_name_formated'] = df['file_name_substring'].apply(remove_am_pm_mark)"
   ]
  },
  {
   "cell_type": "code",
   "execution_count": 13,
   "id": "06409ee7-e33c-4f53-ba62-ac53f164010b",
   "metadata": {},
   "outputs": [
    {
     "data": {
      "text/html": [
       "<div>\n",
       "<style scoped>\n",
       "    .dataframe tbody tr th:only-of-type {\n",
       "        vertical-align: middle;\n",
       "    }\n",
       "\n",
       "    .dataframe tbody tr th {\n",
       "        vertical-align: top;\n",
       "    }\n",
       "\n",
       "    .dataframe thead th {\n",
       "        text-align: right;\n",
       "    }\n",
       "</style>\n",
       "<table border=\"1\" class=\"dataframe\">\n",
       "  <thead>\n",
       "    <tr style=\"text-align: right;\">\n",
       "      <th></th>\n",
       "      <th>file</th>\n",
       "      <th>list_name</th>\n",
       "      <th>file_name_substring</th>\n",
       "      <th>file_name_formated</th>\n",
       "    </tr>\n",
       "  </thead>\n",
       "  <tbody>\n",
       "    <tr>\n",
       "      <th>0</th>\n",
       "      <td>Inhale SD000133X01 Q007406486 11-Aug-20 6_18_...</td>\n",
       "      <td>antigos</td>\n",
       "      <td>Inhale SD000133X01 Q007406486 11-Aug-20 6_18_10</td>\n",
       "      <td>Inhale SD000133X01 Q007406486 11-Aug-20 6_18_10</td>\n",
       "    </tr>\n",
       "    <tr>\n",
       "      <th>1</th>\n",
       "      <td>Inhale SD000133X01 Q008305121 27-Sep-20 16_59...</td>\n",
       "      <td>antigos</td>\n",
       "      <td>Inhale SD000133X01 Q008305121 27-Sep-20 16_59_12</td>\n",
       "      <td>Inhale SD000133X01 Q008305121 27-Sep-20 16_59_12</td>\n",
       "    </tr>\n",
       "  </tbody>\n",
       "</table>\n",
       "</div>"
      ],
      "text/plain": [
       "                                                file list_name  \\\n",
       "0   Inhale SD000133X01 Q007406486 11-Aug-20 6_18_...   antigos   \n",
       "1   Inhale SD000133X01 Q008305121 27-Sep-20 16_59...   antigos   \n",
       "\n",
       "                                file_name_substring  \\\n",
       "0   Inhale SD000133X01 Q007406486 11-Aug-20 6_18_10   \n",
       "1  Inhale SD000133X01 Q008305121 27-Sep-20 16_59_12   \n",
       "\n",
       "                                 file_name_formated  \n",
       "0   Inhale SD000133X01 Q007406486 11-Aug-20 6_18_10  \n",
       "1  Inhale SD000133X01 Q008305121 27-Sep-20 16_59_12  "
      ]
     },
     "metadata": {},
     "output_type": "display_data"
    }
   ],
   "source": [
    "df.drop(columns = ['inhale_string_start_position','xml_string_start_position'], inplace = True)\n",
    "print_dataframe(df.head(2))"
   ]
  }
 ],
 "metadata": {
  "kernelspec": {
   "display_name": "Python 3 (ipykernel)",
   "language": "python",
   "name": "python3"
  },
  "language_info": {
   "codemirror_mode": {
    "name": "ipython",
    "version": 3
   },
   "file_extension": ".py",
   "mimetype": "text/x-python",
   "name": "python",
   "nbconvert_exporter": "python",
   "pygments_lexer": "ipython3",
   "version": "3.9.13"
  }
 },
 "nbformat": 4,
 "nbformat_minor": 5
}
